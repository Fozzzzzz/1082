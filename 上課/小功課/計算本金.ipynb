{
 "cells": [
  {
   "cell_type": "code",
   "execution_count": 1,
   "metadata": {},
   "outputs": [
    {
     "name": "stdout",
     "output_type": "stream",
     "text": [
      "請輸入本金: 100000\n",
      "請輸入名目利率%數: 1\n",
      "請輸入每年期數: 2\n",
      "請輸入年數: 5\n",
      "本金和為 105114.0132\n"
     ]
    }
   ],
   "source": [
    "money = float(input(\"請輸入本金: \"))\n",
    "interest = float(input(\"請輸入名目利率%數: \"))\n",
    "times = float(input(\"請輸入每年期數: \"))\n",
    "year = float(input(\"請輸入年數: \"))\n",
    "interest = interest/100\n",
    "money_sum = money*pow(1+(interest/times),times*year)\n",
    "money_sum = round(money_sum,4)\n",
    "print(\"本金和為\",money_sum)"
   ]
  },
  {
   "cell_type": "code",
   "execution_count": null,
   "metadata": {},
   "outputs": [],
   "source": []
  }
 ],
 "metadata": {
  "kernelspec": {
   "display_name": "Python 3",
   "language": "python",
   "name": "python3"
  },
  "language_info": {
   "codemirror_mode": {
    "name": "ipython",
    "version": 3
   },
   "file_extension": ".py",
   "mimetype": "text/x-python",
   "name": "python",
   "nbconvert_exporter": "python",
   "pygments_lexer": "ipython3",
   "version": "3.7.3"
  }
 },
 "nbformat": 4,
 "nbformat_minor": 2
}
