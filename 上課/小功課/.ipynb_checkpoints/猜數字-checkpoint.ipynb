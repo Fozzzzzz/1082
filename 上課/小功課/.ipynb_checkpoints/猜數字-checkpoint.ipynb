{
 "cells": [
  {
   "cell_type": "code",
   "execution_count": 1,
   "metadata": {},
   "outputs": [],
   "source": [
    "import numpy as np\n",
    "import random"
   ]
  },
  {
   "cell_type": "code",
   "execution_count": 2,
   "metadata": {},
   "outputs": [],
   "source": [
    "def get_num():\n",
    "    list = [0,1,2,3,4,5,6,7,8,9]\n",
    "    get_num = random.sample(list, 4)\n",
    "    return get_num"
   ]
  },
  {
   "cell_type": "code",
   "execution_count": 3,
   "metadata": {},
   "outputs": [],
   "source": [
    "def number(n):\n",
    "    a = n//1000\n",
    "    b = (n-a*1000)//100\n",
    "    c = (n-a*1000-b*100)//10\n",
    "    d = n%10\n",
    "    return a, b, c, d"
   ]
  },
  {
   "cell_type": "code",
   "execution_count": 4,
   "metadata": {},
   "outputs": [],
   "source": [
    "def check(ans, ur_ans):\n",
    "    A = 0\n",
    "    B = 0\n",
    "    index = 0\n",
    "    for i in ur_ans:\n",
    "        if i in ans:\n",
    "            if i != ans[index]:\n",
    "                B = B + 1\n",
    "            else:\n",
    "                A = A + 1\n",
    "        else:\n",
    "            A = A\n",
    "            B = B\n",
    "        i = i + 1 \n",
    "        index = index + 1\n",
    "    print(\"%dA%dB\" % (A , B))\n",
    "    return A"
   ]
  },
  {
   "cell_type": "code",
   "execution_count": 10,
   "metadata": {},
   "outputs": [
    {
     "name": "stdout",
     "output_type": "stream",
     "text": [
      "Enter or Quit:answer\n",
      "[3, 7, 2, 5]\n",
      "Gusee a 4-digit number:3725\n",
      "4A0B\n",
      "Congratulation!\n"
     ]
    }
   ],
   "source": [
    "enter_or_quiet = input(\"Enter or Quit:\")\n",
    "while enter_or_quiet != \"Quit\":\n",
    "    ans = get_num()\n",
    "    A = 0\n",
    "    if enter_or_quiet == \"answer\":\n",
    "        print(ans)\n",
    "    while A != 4:\n",
    "        ur_ans = int(input(\"Gusee a 4-digit number:\"))\n",
    "        if ur_ans == 0000:\n",
    "            break\n",
    "        ur_ans = number(ur_ans)\n",
    "        A = check(ans, ur_ans)\n",
    "    print(\"Congratulation!\")\n",
    "    break"
   ]
  },
  {
   "cell_type": "code",
   "execution_count": null,
   "metadata": {},
   "outputs": [],
   "source": []
  }
 ],
 "metadata": {
  "kernelspec": {
   "display_name": "Python 3",
   "language": "python",
   "name": "python3"
  },
  "language_info": {
   "codemirror_mode": {
    "name": "ipython",
    "version": 3
   },
   "file_extension": ".py",
   "mimetype": "text/x-python",
   "name": "python",
   "nbconvert_exporter": "python",
   "pygments_lexer": "ipython3",
   "version": "3.7.3"
  }
 },
 "nbformat": 4,
 "nbformat_minor": 2
}
