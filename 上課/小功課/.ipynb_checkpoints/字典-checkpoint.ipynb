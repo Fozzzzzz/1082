{
 "cells": [
  {
   "cell_type": "code",
   "execution_count": 1,
   "metadata": {},
   "outputs": [
    {
     "name": "stdout",
     "output_type": "stream",
     "text": [
      "請輸入英文：Happy\n",
      "查無資料\n",
      "請輸入中文：快樂的\n",
      "是否繼續查詢(y/n)：y\n",
      "請輸入英文：happy\n",
      "happy 的中文為 快樂的\n",
      "是否繼續查詢(y/n)：n\n"
     ]
    }
   ],
   "source": [
    "English_to_Chinese = {}                             \n",
    "while True:\n",
    "    English = input(\"請輸入英文：\")\n",
    "    English_Upper = English.upper()      \n",
    "    if English_Upper in English_to_Chinese:  \n",
    "        print(\"%s 的中文為 %s\" % (English, English_to_Chinese[English_Upper])) \n",
    "    else:\n",
    "        print(\"查無資料\")                 \n",
    "        Chinese = input(\"請輸入中文：\")            \n",
    "        English_to_Chinese[English_Upper] = Chinese \n",
    "    y_or_n = input(\"是否繼續查詢(y/n)：\")           \n",
    "    if y_or_n == 'y':                               \n",
    "        continue                                    \n",
    "    else:                                           \n",
    "        break                                     "
   ]
  },
  {
   "cell_type": "code",
   "execution_count": null,
   "metadata": {},
   "outputs": [],
   "source": []
  }
 ],
 "metadata": {
  "kernelspec": {
   "display_name": "Python 3",
   "language": "python",
   "name": "python3"
  },
  "language_info": {
   "codemirror_mode": {
    "name": "ipython",
    "version": 3
   },
   "file_extension": ".py",
   "mimetype": "text/x-python",
   "name": "python",
   "nbconvert_exporter": "python",
   "pygments_lexer": "ipython3",
   "version": "3.7.3"
  }
 },
 "nbformat": 4,
 "nbformat_minor": 2
}
