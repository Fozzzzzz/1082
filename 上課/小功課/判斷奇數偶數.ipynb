{
 "cells": [
  {
   "cell_type": "code",
   "execution_count": 1,
   "metadata": {},
   "outputs": [
    {
     "name": "stdout",
     "output_type": "stream",
     "text": [
      "請輸入：2\n",
      "Yes\n",
      "請輸入：1\n",
      "No\n",
      "請輸入：100\n",
      "Yes\n",
      "請輸入：q\n",
      "無輸出，程式結束\n"
     ]
    }
   ],
   "source": [
    "number = input(\"請輸入：\")          \n",
    "while(number != \"q\"):       \n",
    "    if((int(number) % 2) == 0):     \n",
    "        print(\"Yes\")                    \n",
    "        number = input(\"請輸入：\") \n",
    "        continue                        \n",
    "    elif((int(number) % 2) == 1):       \n",
    "        print(\"No\")                     \n",
    "        number = input(\"請輸入：\")      \n",
    "        continue                       \n",
    "print(\"無輸出，程式結束\") \n"
   ]
  },
  {
   "cell_type": "code",
   "execution_count": null,
   "metadata": {},
   "outputs": [],
   "source": []
  }
 ],
 "metadata": {
  "kernelspec": {
   "display_name": "Python 3",
   "language": "python",
   "name": "python3"
  },
  "language_info": {
   "codemirror_mode": {
    "name": "ipython",
    "version": 3
   },
   "file_extension": ".py",
   "mimetype": "text/x-python",
   "name": "python",
   "nbconvert_exporter": "python",
   "pygments_lexer": "ipython3",
   "version": "3.7.3"
  }
 },
 "nbformat": 4,
 "nbformat_minor": 2
}
