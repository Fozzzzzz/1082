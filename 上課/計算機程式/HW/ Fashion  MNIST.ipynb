{
 "cells": [
  {
   "cell_type": "code",
   "execution_count": 1,
   "metadata": {},
   "outputs": [],
   "source": [
    "%matplotlib inline\n",
    "\n",
    "import numpy as np\n",
    "import matplotlib.pyplot as plt"
   ]
  },
  {
   "cell_type": "code",
   "execution_count": 3,
   "metadata": {},
   "outputs": [],
   "source": [
    "import tensorflow as tf"
   ]
  },
  {
   "cell_type": "code",
   "execution_count": 4,
   "metadata": {},
   "outputs": [],
   "source": [
    "from tensorflow.keras.datasets import fashion_mnist"
   ]
  },
  {
   "cell_type": "code",
   "execution_count": 5,
   "metadata": {},
   "outputs": [],
   "source": [
    "(x_train, y_train), (x_test, y_test) = fashion_mnist.load_data()"
   ]
  },
  {
   "cell_type": "code",
   "execution_count": 6,
   "metadata": {},
   "outputs": [],
   "source": [
    "class_names = ['T-shirt/top', 'Trouser', 'Pullover', 'Dress', 'Coat',\n",
    "               'Sandal', 'Shirt', 'Sneaker', 'Bag', 'Ankle boot']"
   ]
  },
  {
   "cell_type": "code",
   "execution_count": 7,
   "metadata": {},
   "outputs": [],
   "source": [
    "x_train = x_train/255\n",
    "x_test = x_test/255"
   ]
  },
  {
   "cell_type": "code",
   "execution_count": 8,
   "metadata": {},
   "outputs": [
    {
     "data": {
      "text/plain": [
       "(60000, 28, 28)"
      ]
     },
     "execution_count": 8,
     "metadata": {},
     "output_type": "execute_result"
    }
   ],
   "source": [
    "x_train.shape"
   ]
  },
  {
   "cell_type": "code",
   "execution_count": 9,
   "metadata": {},
   "outputs": [],
   "source": [
    "x_train = x_train.reshape(60000, 784)"
   ]
  },
  {
   "cell_type": "code",
   "execution_count": 10,
   "metadata": {},
   "outputs": [],
   "source": [
    "x_test = x_test.reshape(10000,784)"
   ]
  },
  {
   "cell_type": "code",
   "execution_count": 11,
   "metadata": {},
   "outputs": [],
   "source": [
    "from tensorflow.keras.utils import to_categorical"
   ]
  },
  {
   "cell_type": "code",
   "execution_count": 12,
   "metadata": {},
   "outputs": [],
   "source": [
    "y_train = to_categorical(y_train, 10)"
   ]
  },
  {
   "cell_type": "code",
   "execution_count": 13,
   "metadata": {},
   "outputs": [],
   "source": [
    "y_test = to_categorical(y_test, 10)"
   ]
  },
  {
   "cell_type": "code",
   "execution_count": 14,
   "metadata": {},
   "outputs": [],
   "source": [
    "from tensorflow.keras.models import Sequential\n",
    "from tensorflow.keras.layers import Dense\n",
    "from tensorflow.keras.optimizers import SGD"
   ]
  },
  {
   "cell_type": "code",
   "execution_count": 15,
   "metadata": {},
   "outputs": [],
   "source": [
    "model = Sequential()"
   ]
  },
  {
   "cell_type": "code",
   "execution_count": 16,
   "metadata": {},
   "outputs": [
    {
     "name": "stdout",
     "output_type": "stream",
     "text": [
      "WARNING:tensorflow:From C:\\Users\\user\\anaconda3\\lib\\site-packages\\tensorflow\\python\\ops\\init_ops.py:1251: calling VarianceScaling.__init__ (from tensorflow.python.ops.init_ops) with dtype is deprecated and will be removed in a future version.\n",
      "Instructions for updating:\n",
      "Call initializer instance with the dtype argument instead of passing it to the constructor\n"
     ]
    }
   ],
   "source": [
    "model.add(Dense(747, input_dim=784, activation='relu'))"
   ]
  },
  {
   "cell_type": "code",
   "execution_count": 17,
   "metadata": {},
   "outputs": [],
   "source": [
    "model.add(Dense(350, activation='relu'))"
   ]
  },
  {
   "cell_type": "code",
   "execution_count": 18,
   "metadata": {},
   "outputs": [],
   "source": [
    "model.add(Dense(380, activation='relu'))"
   ]
  },
  {
   "cell_type": "code",
   "execution_count": 19,
   "metadata": {},
   "outputs": [],
   "source": [
    "model.add(Dense(10, activation='sigmoid'))  #將softmax改成sigmoid"
   ]
  },
  {
   "cell_type": "code",
   "execution_count": null,
   "metadata": {},
   "outputs": [],
   "source": []
  },
  {
   "cell_type": "code",
   "execution_count": 20,
   "metadata": {},
   "outputs": [],
   "source": [
    "model.compile(loss='mse', optimizer=SGD(lr=0.0999), metrics=[\"accuracy\"])"
   ]
  },
  {
   "cell_type": "code",
   "execution_count": 21,
   "metadata": {},
   "outputs": [
    {
     "name": "stdout",
     "output_type": "stream",
     "text": [
      "Model: \"sequential\"\n",
      "_________________________________________________________________\n",
      "Layer (type)                 Output Shape              Param #   \n",
      "=================================================================\n",
      "dense (Dense)                (None, 747)               586395    \n",
      "_________________________________________________________________\n",
      "dense_1 (Dense)              (None, 350)               261800    \n",
      "_________________________________________________________________\n",
      "dense_2 (Dense)              (None, 380)               133380    \n",
      "_________________________________________________________________\n",
      "dense_3 (Dense)              (None, 10)                3810      \n",
      "=================================================================\n",
      "Total params: 985,385\n",
      "Trainable params: 985,385\n",
      "Non-trainable params: 0\n",
      "_________________________________________________________________\n"
     ]
    }
   ],
   "source": [
    "model.summary()"
   ]
  },
  {
   "cell_type": "code",
   "execution_count": null,
   "metadata": {},
   "outputs": [],
   "source": []
  },
  {
   "cell_type": "code",
   "execution_count": 22,
   "metadata": {},
   "outputs": [
    {
     "name": "stdout",
     "output_type": "stream",
     "text": [
      "Epoch 1/30\n",
      "60000/60000 [==============================] - 7s 111us/sample - loss: 0.0716 - acc: 0.5425\n",
      "Epoch 2/30\n",
      "60000/60000 [==============================] - 7s 109us/sample - loss: 0.0414 - acc: 0.7434\n",
      "Epoch 3/30\n",
      "60000/60000 [==============================] - 7s 110us/sample - loss: 0.0338 - acc: 0.7889\n",
      "Epoch 4/30\n",
      "60000/60000 [==============================] - 7s 110us/sample - loss: 0.0302 - acc: 0.8080\n",
      "Epoch 5/30\n",
      "60000/60000 [==============================] - 7s 109us/sample - loss: 0.0281 - acc: 0.8198\n",
      "Epoch 6/30\n",
      "60000/60000 [==============================] - 7s 108us/sample - loss: 0.0267 - acc: 0.8271\n",
      "Epoch 7/30\n",
      "60000/60000 [==============================] - 7s 108us/sample - loss: 0.0258 - acc: 0.8329\n",
      "Epoch 8/30\n",
      "60000/60000 [==============================] - 7s 108us/sample - loss: 0.0250 - acc: 0.8371\n",
      "Epoch 9/30\n",
      "60000/60000 [==============================] - 7s 109us/sample - loss: 0.0243 - acc: 0.8417\n",
      "Epoch 10/30\n",
      "60000/60000 [==============================] - 7s 109us/sample - loss: 0.0238 - acc: 0.8448\n",
      "Epoch 11/30\n",
      "60000/60000 [==============================] - 7s 123us/sample - loss: 0.0233 - acc: 0.8478\n",
      "Epoch 12/30\n",
      "60000/60000 [==============================] - 9s 148us/sample - loss: 0.0229 - acc: 0.8509\n",
      "Epoch 13/30\n",
      "60000/60000 [==============================] - 9s 144us/sample - loss: 0.0225 - acc: 0.8540\n",
      "Epoch 14/30\n",
      "60000/60000 [==============================] - 8s 129us/sample - loss: 0.0222 - acc: 0.8557\n",
      "Epoch 15/30\n",
      "60000/60000 [==============================] - 8s 127us/sample - loss: 0.0218 - acc: 0.8585\n",
      "Epoch 16/30\n",
      "60000/60000 [==============================] - 8s 129us/sample - loss: 0.0215 - acc: 0.8602\n",
      "Epoch 17/30\n",
      "60000/60000 [==============================] - 8s 137us/sample - loss: 0.0213 - acc: 0.8618\n",
      "Epoch 18/30\n",
      "60000/60000 [==============================] - 8s 133us/sample - loss: 0.0210 - acc: 0.8633\n",
      "Epoch 19/30\n",
      "60000/60000 [==============================] - 8s 127us/sample - loss: 0.0207 - acc: 0.8646\n",
      "Epoch 20/30\n",
      "60000/60000 [==============================] - 7s 115us/sample - loss: 0.0205 - acc: 0.8659\n",
      "Epoch 21/30\n",
      "60000/60000 [==============================] - 7s 110us/sample - loss: 0.0203 - acc: 0.8683\n",
      "Epoch 22/30\n",
      "60000/60000 [==============================] - 6s 104us/sample - loss: 0.0201 - acc: 0.8686\n",
      "Epoch 23/30\n",
      "60000/60000 [==============================] - 7s 118us/sample - loss: 0.0199 - acc: 0.8704\n",
      "Epoch 24/30\n",
      "60000/60000 [==============================] - 7s 113us/sample - loss: 0.0197 - acc: 0.8729\n",
      "Epoch 25/30\n",
      "60000/60000 [==============================] - 6s 107us/sample - loss: 0.0195 - acc: 0.8736\n",
      "Epoch 26/30\n",
      "60000/60000 [==============================] - 7s 121us/sample - loss: 0.0193 - acc: 0.8741\n",
      "Epoch 27/30\n",
      "60000/60000 [==============================] - 7s 117us/sample - loss: 0.0191 - acc: 0.8754\n",
      "Epoch 28/30\n",
      "60000/60000 [==============================] - 7s 122us/sample - loss: 0.0190 - acc: 0.8771\n",
      "Epoch 29/30\n",
      "60000/60000 [==============================] - 9s 142us/sample - loss: 0.0188 - acc: 0.8773\n",
      "Epoch 30/30\n",
      "60000/60000 [==============================] - 8s 126us/sample - loss: 0.0186 - acc: 0.8788s - loss: 0.0186 - ac\n"
     ]
    },
    {
     "data": {
      "text/plain": [
       "<tensorflow.python.keras.callbacks.History at 0x27642f174c8>"
      ]
     },
     "execution_count": 22,
     "metadata": {},
     "output_type": "execute_result"
    }
   ],
   "source": [
    "model.fit(x_train, y_train, batch_size=100, epochs=30) #做30次訓練"
   ]
  },
  {
   "cell_type": "code",
   "execution_count": 23,
   "metadata": {},
   "outputs": [],
   "source": [
    "result = model.predict_classes(x_test)"
   ]
  },
  {
   "cell_type": "code",
   "execution_count": 24,
   "metadata": {},
   "outputs": [],
   "source": [
    "(x_train, y_train), (x_test, y_test) = fashion_mnist.load_data()"
   ]
  },
  {
   "cell_type": "code",
   "execution_count": 25,
   "metadata": {},
   "outputs": [],
   "source": [
    "def run():\n",
    "    cur = 0\n",
    "    for i in range(10000):\n",
    "        if result[i] == y_test[i]:\n",
    "            cur = cur + 1\n",
    "    return (cur/len(x_test))"
   ]
  },
  {
   "cell_type": "code",
   "execution_count": 27,
   "metadata": {},
   "outputs": [
    {
     "name": "stdout",
     "output_type": "stream",
     "text": [
      "準確度為86.22%\n"
     ]
    }
   ],
   "source": [
    "print(\"準確度為{}%\" .format (run()*100)) #去檢查訓練出來的神經網路對test data的準確度"
   ]
  },
  {
   "cell_type": "code",
   "execution_count": 28,
   "metadata": {},
   "outputs": [
    {
     "data": {
      "text/plain": [
       "6"
      ]
     },
     "execution_count": 28,
     "metadata": {},
     "output_type": "execute_result"
    }
   ],
   "source": [
    "y_test[result[6]]"
   ]
  },
  {
   "cell_type": "code",
   "execution_count": null,
   "metadata": {},
   "outputs": [],
   "source": []
  }
 ],
 "metadata": {
  "kernelspec": {
   "display_name": "Python 3",
   "language": "python",
   "name": "python3"
  },
  "language_info": {
   "codemirror_mode": {
    "name": "ipython",
    "version": 3
   },
   "file_extension": ".py",
   "mimetype": "text/x-python",
   "name": "python",
   "nbconvert_exporter": "python",
   "pygments_lexer": "ipython3",
   "version": "3.7.6"
  }
 },
 "nbformat": 4,
 "nbformat_minor": 4
}
