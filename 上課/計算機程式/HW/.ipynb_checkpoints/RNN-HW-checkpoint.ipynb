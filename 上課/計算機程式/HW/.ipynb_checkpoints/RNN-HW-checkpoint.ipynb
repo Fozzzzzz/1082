{
 "cells": [
  {
   "cell_type": "code",
   "execution_count": 1,
   "metadata": {},
   "outputs": [],
   "source": [
    "%matplotlib inline\n",
    "\n",
    "import numpy as np\n",
    "import matplotlib.pyplot as plt\n",
    "import pandas as pd"
   ]
  },
  {
   "cell_type": "markdown",
   "metadata": {},
   "source": [
    "## 讀入深度學習套件"
   ]
  },
  {
   "cell_type": "code",
   "execution_count": 3,
   "metadata": {},
   "outputs": [],
   "source": [
    "from tensorflow.keras.preprocessing import sequence\n",
    "from tensorflow.keras.models import Sequential\n",
    "from tensorflow.keras.layers import Dense,Embedding\n",
    "from tensorflow.keras.layers import LSTM\n",
    "from tensorflow.keras.datasets import imdb"
   ]
  },
  {
   "cell_type": "markdown",
   "metadata": {},
   "source": [
    "## 讀入數據"
   ]
  },
  {
   "cell_type": "code",
   "execution_count": 4,
   "metadata": {},
   "outputs": [],
   "source": [
    "(x_train, y_train), (x_test, y_test) = imdb.load_data(num_words=20000) #讀入20000個字"
   ]
  },
  {
   "cell_type": "markdown",
   "metadata": {},
   "source": [
    "## 資料處理"
   ]
  },
  {
   "cell_type": "code",
   "execution_count": 5,
   "metadata": {},
   "outputs": [],
   "source": [
    "x_train = sequence.pad_sequences(x_train, maxlen=200) #剪成200字\n",
    "x_test = sequence.pad_sequences(x_train, maxlen=200)"
   ]
  },
  {
   "cell_type": "markdown",
   "metadata": {},
   "source": [
    "## 打造函數學習機"
   ]
  },
  {
   "cell_type": "code",
   "execution_count": 6,
   "metadata": {},
   "outputs": [
    {
     "name": "stdout",
     "output_type": "stream",
     "text": [
      "WARNING:tensorflow:From C:\\Users\\user\\anaconda3\\lib\\site-packages\\tensorflow\\python\\keras\\initializers.py:119: calling RandomUniform.__init__ (from tensorflow.python.ops.init_ops) with dtype is deprecated and will be removed in a future version.\n",
      "Instructions for updating:\n",
      "Call initializer instance with the dtype argument instead of passing it to the constructor\n",
      "WARNING:tensorflow:From C:\\Users\\user\\anaconda3\\lib\\site-packages\\tensorflow\\python\\ops\\init_ops.py:1251: calling VarianceScaling.__init__ (from tensorflow.python.ops.init_ops) with dtype is deprecated and will be removed in a future version.\n",
      "Instructions for updating:\n",
      "Call initializer instance with the dtype argument instead of passing it to the constructor\n",
      "WARNING:tensorflow:From C:\\Users\\user\\anaconda3\\lib\\site-packages\\tensorflow\\python\\ops\\nn_impl.py:180: add_dispatch_support.<locals>.wrapper (from tensorflow.python.ops.array_ops) is deprecated and will be removed in a future version.\n",
      "Instructions for updating:\n",
      "Use tf.where in 2.0, which has the same broadcast rule as np.where\n"
     ]
    }
   ],
   "source": [
    "model = Sequential()\n",
    "model.add(Embedding(20000, 128)) #20000壓成128維\n",
    "model.add(LSTM(77, dropout=0.2, recurrent_dropout=0.2)) #LSTM改成77(<128)\n",
    "model.add(Dense(1, activation='sigmoid'))\n",
    "model.compile(loss='binary_crossentropy',\n",
    "             optimizer='adam',\n",
    "             metrics=['accuracy'])"
   ]
  },
  {
   "cell_type": "code",
   "execution_count": 7,
   "metadata": {},
   "outputs": [
    {
     "name": "stdout",
     "output_type": "stream",
     "text": [
      "Train on 25000 samples, validate on 25000 samples\n",
      "Epoch 1/10\n",
      "25000/25000 [==============================] - 168s 7ms/sample - loss: 0.4723 - acc: 0.7781 - val_loss: 1.2197 - val_acc: 0.4955\n",
      "Epoch 2/10\n",
      "25000/25000 [==============================] - 168s 7ms/sample - loss: 0.3139 - acc: 0.8702 - val_loss: 1.8199 - val_acc: 0.4962\n",
      "Epoch 3/10\n",
      "25000/25000 [==============================] - 167s 7ms/sample - loss: 0.2415 - acc: 0.9091 - val_loss: 1.6223 - val_acc: 0.4964\n",
      "Epoch 4/10\n",
      "25000/25000 [==============================] - 166s 7ms/sample - loss: 0.1754 - acc: 0.9359 - val_loss: 2.3246 - val_acc: 0.4954\n",
      "Epoch 5/10\n",
      "25000/25000 [==============================] - 166s 7ms/sample - loss: 0.1436 - acc: 0.9474 - val_loss: 2.1191 - val_acc: 0.4956\n",
      "Epoch 6/10\n",
      "25000/25000 [==============================] - 166s 7ms/sample - loss: 0.1160 - acc: 0.9591 - val_loss: 2.5777 - val_acc: 0.4969\n",
      "Epoch 7/10\n",
      "25000/25000 [==============================] - 166s 7ms/sample - loss: 0.0850 - acc: 0.9698 - val_loss: 3.0677 - val_acc: 0.4953\n",
      "Epoch 8/10\n",
      "25000/25000 [==============================] - 169s 7ms/sample - loss: 0.0643 - acc: 0.9780 - val_loss: 3.2159 - val_acc: 0.4956\n",
      "Epoch 9/10\n",
      "25000/25000 [==============================] - 163s 7ms/sample - loss: 0.0522 - acc: 0.9832 - val_loss: 2.5449 - val_acc: 0.4970\n",
      "Epoch 10/10\n",
      "25000/25000 [==============================] - 164s 7ms/sample - loss: 0.0423 - acc: 0.9854 - val_loss: 3.9145 - val_acc: 0.4963\n"
     ]
    },
    {
     "data": {
      "text/plain": [
       "<tensorflow.python.keras.callbacks.History at 0x22502f07388>"
      ]
     },
     "execution_count": 7,
     "metadata": {},
     "output_type": "execute_result"
    }
   ],
   "source": [
    "model.fit(x_train, y_train, batch_size=50, epochs=10,  #每次訓練50筆，共訓練10次\n",
    "          validation_data=(x_test, y_test)) #看測試資料的誤差"
   ]
  },
  {
   "cell_type": "markdown",
   "metadata": {},
   "source": [
    "雖然訓練成果很好，但測試得準確率都不高，有over fitting的現象"
   ]
  },
  {
   "cell_type": "markdown",
   "metadata": {},
   "source": [
    "試試看LSTM比維數大的模型"
   ]
  },
  {
   "cell_type": "code",
   "execution_count": 8,
   "metadata": {},
   "outputs": [],
   "source": [
    "model = Sequential()\n",
    "model.add(Embedding(20000, 128)) #20000壓成128維\n",
    "model.add(LSTM(186, dropout=0.2, recurrent_dropout=0.2)) #LSTM改成186(>128)\n",
    "model.add(Dense(1, activation='sigmoid'))\n",
    "model.compile(loss='binary_crossentropy',\n",
    "             optimizer='adam',\n",
    "             metrics=['accuracy'])"
   ]
  },
  {
   "cell_type": "code",
   "execution_count": 9,
   "metadata": {},
   "outputs": [
    {
     "name": "stdout",
     "output_type": "stream",
     "text": [
      "Train on 25000 samples, validate on 25000 samples\n",
      "Epoch 1/10\n",
      "25000/25000 [==============================] - 642s 26ms/sample - loss: 0.4662 - acc: 0.7795 - val_loss: 1.3301 - val_acc: 0.4977\n",
      "Epoch 2/10\n",
      "25000/25000 [==============================] - 701s 28ms/sample - loss: 0.3552 - acc: 0.8454 - val_loss: 0.8830 - val_acc: 0.5008\n",
      "Epoch 3/10\n",
      "25000/25000 [==============================] - 668s 27ms/sample - loss: 0.3676 - acc: 0.8417 - val_loss: 1.7073 - val_acc: 0.4985\n",
      "Epoch 4/10\n",
      "25000/25000 [==============================] - 642s 26ms/sample - loss: 0.2212 - acc: 0.9155 - val_loss: 1.8799 - val_acc: 0.4960\n",
      "Epoch 5/10\n",
      "25000/25000 [==============================] - 648s 26ms/sample - loss: 0.1671 - acc: 0.9385 - val_loss: 2.0522 - val_acc: 0.4974\n",
      "Epoch 6/10\n",
      "25000/25000 [==============================] - 652s 26ms/sample - loss: 0.1322 - acc: 0.9512 - val_loss: 2.1083 - val_acc: 0.4980\n",
      "Epoch 7/10\n",
      "25000/25000 [==============================] - 648s 26ms/sample - loss: 0.1030 - acc: 0.9641 - val_loss: 2.6085 - val_acc: 0.4970\n",
      "Epoch 8/10\n",
      "25000/25000 [==============================] - 25312s 1s/sample - loss: 0.0836 - acc: 0.9709 - val_loss: 2.5029 - val_acc: 0.4956\n",
      "Epoch 9/10\n",
      "25000/25000 [==============================] - 655s 26ms/sample - loss: 0.0638 - acc: 0.9786 - val_loss: 3.3156 - val_acc: 0.4969\n",
      "Epoch 10/10\n",
      "25000/25000 [==============================] - 640s 26ms/sample - loss: 0.0520 - acc: 0.9820 - val_loss: 3.3314 - val_acc: 0.4962\n"
     ]
    },
    {
     "data": {
      "text/plain": [
       "<tensorflow.python.keras.callbacks.History at 0x2250672de48>"
      ]
     },
     "execution_count": 9,
     "metadata": {},
     "output_type": "execute_result"
    }
   ],
   "source": [
    "model.fit(x_train, y_train, batch_size=50, epochs=10,  #每次訓練50筆，共訓練10次\n",
    "          validation_data=(x_test, y_test)) #看測試資料的誤差"
   ]
  },
  {
   "cell_type": "markdown",
   "metadata": {},
   "source": [
    "由於所需計算的維數較多，所以訓練時間也跟著增加"
   ]
  },
  {
   "cell_type": "markdown",
   "metadata": {},
   "source": [
    "試試看壓成比較多維，並讓LSTM小很多點"
   ]
  },
  {
   "cell_type": "code",
   "execution_count": 10,
   "metadata": {},
   "outputs": [],
   "source": [
    "model = Sequential()\n",
    "model.add(Embedding(20000, 350)) #20000壓成350維\n",
    "model.add(LSTM(72, dropout=0.2, recurrent_dropout=0.2)) #LSTM改成72(<350)\n",
    "model.add(Dense(1, activation='sigmoid'))\n",
    "model.compile(loss='binary_crossentropy',\n",
    "             optimizer='adam',\n",
    "             metrics=['accuracy'])"
   ]
  },
  {
   "cell_type": "code",
   "execution_count": 11,
   "metadata": {},
   "outputs": [
    {
     "name": "stdout",
     "output_type": "stream",
     "text": [
      "Train on 25000 samples, validate on 25000 samples\n",
      "Epoch 1/10\n",
      "25000/25000 [==============================] - 323s 13ms/sample - loss: 0.4782 - acc: 0.7754 - val_loss: 1.1800 - val_acc: 0.4965\n",
      "Epoch 2/10\n",
      "25000/25000 [==============================] - 324s 13ms/sample - loss: 0.2942 - acc: 0.8838 - val_loss: 1.5051 - val_acc: 0.4963\n",
      "Epoch 3/10\n",
      "25000/25000 [==============================] - 326s 13ms/sample - loss: 0.2120 - acc: 0.9188 - val_loss: 2.0941 - val_acc: 0.4951\n",
      "Epoch 4/10\n",
      "25000/25000 [==============================] - 325s 13ms/sample - loss: 0.1520 - acc: 0.9452 - val_loss: 2.0291 - val_acc: 0.4966\n",
      "Epoch 5/10\n",
      "25000/25000 [==============================] - 327s 13ms/sample - loss: 0.1274 - acc: 0.9521 - val_loss: 2.4089 - val_acc: 0.4960\n",
      "Epoch 6/10\n",
      "25000/25000 [==============================] - 326s 13ms/sample - loss: 0.0755 - acc: 0.9747 - val_loss: 2.9679 - val_acc: 0.4967\n",
      "Epoch 7/10\n",
      "25000/25000 [==============================] - 328s 13ms/sample - loss: 0.0605 - acc: 0.9797 - val_loss: 3.3020 - val_acc: 0.4960\n",
      "Epoch 8/10\n",
      "25000/25000 [==============================] - 6403s 256ms/sample - loss: 0.0470 - acc: 0.9840 - val_loss: 3.9350 - val_acc: 0.4964\n",
      "Epoch 9/10\n",
      "25000/25000 [==============================] - 336s 13ms/sample - loss: 0.0245 - acc: 0.9926 - val_loss: 4.2392 - val_acc: 0.4961\n",
      "Epoch 10/10\n",
      "25000/25000 [==============================] - 339s 14ms/sample - loss: 0.0509 - acc: 0.9818 - val_loss: 3.6254 - val_acc: 0.4959\n"
     ]
    },
    {
     "data": {
      "text/plain": [
       "<tensorflow.python.keras.callbacks.History at 0x2250aa84348>"
      ]
     },
     "execution_count": 11,
     "metadata": {},
     "output_type": "execute_result"
    }
   ],
   "source": [
    "model.fit(x_train, y_train, batch_size=50, epochs=10,  #每次訓練50筆，共訓練10次\n",
    "          validation_data=(x_test, y_test)) #看測試資料的誤差"
   ]
  },
  {
   "cell_type": "markdown",
   "metadata": {},
   "source": [
    "也一樣有over fitting的現象"
   ]
  },
  {
   "cell_type": "markdown",
   "metadata": {},
   "source": [
    "壓成較小的維度，LSTM也一樣比維數小"
   ]
  },
  {
   "cell_type": "code",
   "execution_count": 12,
   "metadata": {},
   "outputs": [],
   "source": [
    "model = Sequential()\n",
    "model.add(Embedding(20000, 74)) #20000壓成74維\n",
    "model.add(LSTM(35, dropout=0.2, recurrent_dropout=0.2)) #LSTM改成35(<74)\n",
    "model.add(Dense(1, activation='sigmoid'))\n",
    "model.compile(loss='binary_crossentropy',\n",
    "             optimizer='adam',\n",
    "             metrics=['accuracy'])"
   ]
  },
  {
   "cell_type": "code",
   "execution_count": 13,
   "metadata": {},
   "outputs": [
    {
     "name": "stdout",
     "output_type": "stream",
     "text": [
      "Train on 25000 samples, validate on 25000 samples\n",
      "Epoch 1/10\n",
      "25000/25000 [==============================] - 110s 4ms/sample - loss: 0.4732 - acc: 0.7769 - val_loss: 1.1008 - val_acc: 0.4959\n",
      "Epoch 2/10\n",
      "25000/25000 [==============================] - 108s 4ms/sample - loss: 0.3296 - acc: 0.8646 - val_loss: 1.3094 - val_acc: 0.4952\n",
      "Epoch 3/10\n",
      "25000/25000 [==============================] - 107s 4ms/sample - loss: 0.4403 - acc: 0.8047 - val_loss: 1.0492 - val_acc: 0.4993\n",
      "Epoch 4/10\n",
      "25000/25000 [==============================] - 107s 4ms/sample - loss: 0.2973 - acc: 0.8790 - val_loss: 1.5074 - val_acc: 0.4965\n",
      "Epoch 5/10\n",
      "25000/25000 [==============================] - 107s 4ms/sample - loss: 0.2391 - acc: 0.9074 - val_loss: 1.7726 - val_acc: 0.4968\n",
      "Epoch 6/10\n",
      "25000/25000 [==============================] - 109s 4ms/sample - loss: 0.1968 - acc: 0.9262 - val_loss: 1.8849 - val_acc: 0.4959\n",
      "Epoch 7/10\n",
      "25000/25000 [==============================] - 105s 4ms/sample - loss: 0.1685 - acc: 0.9381 - val_loss: 2.1064 - val_acc: 0.4961\n",
      "Epoch 8/10\n",
      "25000/25000 [==============================] - 106s 4ms/sample - loss: 0.1389 - acc: 0.9497 - val_loss: 2.2139 - val_acc: 0.4968\n",
      "Epoch 9/10\n",
      "25000/25000 [==============================] - 105s 4ms/sample - loss: 0.1210 - acc: 0.9575 - val_loss: 2.4445 - val_acc: 0.4961\n",
      "Epoch 10/10\n",
      "25000/25000 [==============================] - 105s 4ms/sample - loss: 0.1035 - acc: 0.9635 - val_loss: 2.5330 - val_acc: 0.4969\n"
     ]
    },
    {
     "data": {
      "text/plain": [
       "<tensorflow.python.keras.callbacks.History at 0x22515a6c3c8>"
      ]
     },
     "execution_count": 13,
     "metadata": {},
     "output_type": "execute_result"
    }
   ],
   "source": [
    "model.fit(x_train, y_train, batch_size=50, epochs=10,  #每次訓練50筆，共訓練10次\n",
    "          validation_data=(x_test, y_test)) #看測試資料的誤差"
   ]
  },
  {
   "cell_type": "markdown",
   "metadata": {},
   "source": [
    "一樣有over fitting的現象"
   ]
  },
  {
   "cell_type": "code",
   "execution_count": null,
   "metadata": {},
   "outputs": [],
   "source": []
  }
 ],
 "metadata": {
  "kernelspec": {
   "display_name": "Python 3",
   "language": "python",
   "name": "python3"
  },
  "language_info": {
   "codemirror_mode": {
    "name": "ipython",
    "version": 3
   },
   "file_extension": ".py",
   "mimetype": "text/x-python",
   "name": "python",
   "nbconvert_exporter": "python",
   "pygments_lexer": "ipython3",
   "version": "3.7.6"
  }
 },
 "nbformat": 4,
 "nbformat_minor": 4
}
