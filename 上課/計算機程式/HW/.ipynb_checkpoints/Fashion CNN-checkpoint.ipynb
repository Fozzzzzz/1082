{
 "cells": [
  {
   "cell_type": "code",
   "execution_count": 1,
   "metadata": {},
   "outputs": [],
   "source": [
    "%matplotlib inline\n",
    "import numpy as np\n",
    "import matplotlib.pyplot as plt\n",
    "import pandas as pd"
   ]
  },
  {
   "cell_type": "markdown",
   "metadata": {},
   "source": [
    "## 準備資料"
   ]
  },
  {
   "cell_type": "code",
   "execution_count": 3,
   "metadata": {},
   "outputs": [],
   "source": [
    "from tensorflow.keras.datasets import fashion_mnist"
   ]
  },
  {
   "cell_type": "code",
   "execution_count": 4,
   "metadata": {},
   "outputs": [],
   "source": [
    "(x_train, y_train), (x_test, y_test) = fashion_mnist.load_data()"
   ]
  },
  {
   "cell_type": "code",
   "execution_count": 5,
   "metadata": {},
   "outputs": [],
   "source": [
    "class_names = ['T-shirt/top', 'Trouser', 'Pullover', 'Dress', 'Coat',\n",
    "               'Sandal', 'Shirt', 'Sneaker', 'Bag', 'Ankle boot']"
   ]
  },
  {
   "cell_type": "code",
   "execution_count": 6,
   "metadata": {},
   "outputs": [],
   "source": [
    "x_train = x_train.reshape(60000, 28, 28, 1) /255"
   ]
  },
  {
   "cell_type": "code",
   "execution_count": 7,
   "metadata": {},
   "outputs": [],
   "source": [
    "x_test = x_test.reshape(10000, 28, 28, 1) /255"
   ]
  },
  {
   "cell_type": "code",
   "execution_count": 8,
   "metadata": {},
   "outputs": [],
   "source": [
    "from tensorflow.keras.utils import to_categorical"
   ]
  },
  {
   "cell_type": "code",
   "execution_count": 9,
   "metadata": {},
   "outputs": [],
   "source": [
    "y_train = to_categorical(y_train, 10)"
   ]
  },
  {
   "cell_type": "code",
   "execution_count": 10,
   "metadata": {},
   "outputs": [],
   "source": [
    "y_test = to_categorical(y_test, 10)"
   ]
  },
  {
   "cell_type": "markdown",
   "metadata": {},
   "source": [
    "## 開始打造神經網路"
   ]
  },
  {
   "cell_type": "code",
   "execution_count": 11,
   "metadata": {},
   "outputs": [],
   "source": [
    "from tensorflow.keras.models import Sequential\n",
    "from tensorflow.keras.layers import Conv2D, MaxPooling2D\n",
    "from tensorflow.keras.layers import Dense, Flatten\n",
    "from tensorflow.keras.optimizers import SGD"
   ]
  },
  {
   "cell_type": "markdown",
   "metadata": {},
   "source": [
    "### 做4層convolution層，並從8個channels開始，filter為3x3，隱藏層為兩層"
   ]
  },
  {
   "cell_type": "code",
   "execution_count": 12,
   "metadata": {},
   "outputs": [],
   "source": [
    "model = Sequential()"
   ]
  },
  {
   "cell_type": "code",
   "execution_count": 13,
   "metadata": {},
   "outputs": [
    {
     "name": "stdout",
     "output_type": "stream",
     "text": [
      "WARNING:tensorflow:From C:\\Users\\user\\anaconda3\\lib\\site-packages\\tensorflow\\python\\ops\\init_ops.py:1251: calling VarianceScaling.__init__ (from tensorflow.python.ops.init_ops) with dtype is deprecated and will be removed in a future version.\n",
      "Instructions for updating:\n",
      "Call initializer instance with the dtype argument instead of passing it to the constructor\n"
     ]
    }
   ],
   "source": [
    "model.add(Conv2D(8, (3,3), padding='same',\n",
    "                input_shape=(28,28,1),\n",
    "                activation='relu'))\n",
    "model.add(MaxPooling2D(pool_size=(2,2)))\n",
    "model.add(Conv2D(16, (3,3), padding='same',\n",
    "                activation='relu'))\n",
    "model.add(MaxPooling2D(pool_size=(2,2)))\n",
    "model.add(Conv2D(32, (3,3), padding='same',\n",
    "                activation='relu'))\n",
    "model.add(MaxPooling2D(pool_size=(2,2)))\n",
    "model.add(Conv2D(64, (3,3), padding='same',\n",
    "                activation='relu'))\n",
    "model.add(MaxPooling2D(pool_size=(2,2)))\n",
    "model.add(Flatten())\n",
    "model.add(Dense(350, activation='relu'))\n",
    "model.add(Dense(787, activation='relu'))\n",
    "model.add(Dense(10, activation='softmax'))"
   ]
  },
  {
   "cell_type": "code",
   "execution_count": 14,
   "metadata": {},
   "outputs": [
    {
     "name": "stdout",
     "output_type": "stream",
     "text": [
      "Model: \"sequential\"\n",
      "_________________________________________________________________\n",
      "Layer (type)                 Output Shape              Param #   \n",
      "=================================================================\n",
      "conv2d (Conv2D)              (None, 28, 28, 8)         80        \n",
      "_________________________________________________________________\n",
      "max_pooling2d (MaxPooling2D) (None, 14, 14, 8)         0         \n",
      "_________________________________________________________________\n",
      "conv2d_1 (Conv2D)            (None, 14, 14, 16)        1168      \n",
      "_________________________________________________________________\n",
      "max_pooling2d_1 (MaxPooling2 (None, 7, 7, 16)          0         \n",
      "_________________________________________________________________\n",
      "conv2d_2 (Conv2D)            (None, 7, 7, 32)          4640      \n",
      "_________________________________________________________________\n",
      "max_pooling2d_2 (MaxPooling2 (None, 3, 3, 32)          0         \n",
      "_________________________________________________________________\n",
      "conv2d_3 (Conv2D)            (None, 3, 3, 64)          18496     \n",
      "_________________________________________________________________\n",
      "max_pooling2d_3 (MaxPooling2 (None, 1, 1, 64)          0         \n",
      "_________________________________________________________________\n",
      "flatten (Flatten)            (None, 64)                0         \n",
      "_________________________________________________________________\n",
      "dense (Dense)                (None, 350)               22750     \n",
      "_________________________________________________________________\n",
      "dense_1 (Dense)              (None, 787)               276237    \n",
      "_________________________________________________________________\n",
      "dense_2 (Dense)              (None, 10)                7880      \n",
      "=================================================================\n",
      "Total params: 331,251\n",
      "Trainable params: 331,251\n",
      "Non-trainable params: 0\n",
      "_________________________________________________________________\n"
     ]
    }
   ],
   "source": [
    "model.summary()"
   ]
  },
  {
   "cell_type": "code",
   "execution_count": 15,
   "metadata": {},
   "outputs": [],
   "source": [
    "model.compile(loss='mse', optimizer=SGD(lr=0.087),\n",
    "             metrics=['accuracy'])"
   ]
  },
  {
   "cell_type": "code",
   "execution_count": 16,
   "metadata": {},
   "outputs": [
    {
     "name": "stdout",
     "output_type": "stream",
     "text": [
      "Epoch 1/12\n",
      "60000/60000 [==============================] - 25s 424us/sample - loss: 0.0899 - acc: 0.1738\n",
      "Epoch 2/12\n",
      "60000/60000 [==============================] - 26s 438us/sample - loss: 0.0898 - acc: 0.3673\n",
      "Epoch 3/12\n",
      "60000/60000 [==============================] - ETA: 0s - loss: 0.0897 - acc: 0.409 - 26s 430us/sample - loss: 0.0897 - acc: 0.4099\n",
      "Epoch 4/12\n",
      "60000/60000 [==============================] - 26s 439us/sample - loss: 0.0895 - acc: 0.4173\n",
      "Epoch 5/12\n",
      "60000/60000 [==============================] - 27s 448us/sample - loss: 0.0892 - acc: 0.4029\n",
      "Epoch 6/12\n",
      "60000/60000 [==============================] - 26s 427us/sample - loss: 0.0883 - acc: 0.3738\n",
      "Epoch 7/12\n",
      "60000/60000 [==============================] - 26s 427us/sample - loss: 0.0793 - acc: 0.3920\n",
      "Epoch 8/12\n",
      "60000/60000 [==============================] - 26s 438us/sample - loss: 0.0500 - acc: 0.6245\n",
      "Epoch 9/12\n",
      "60000/60000 [==============================] - 25s 423us/sample - loss: 0.0418 - acc: 0.6920\n",
      "Epoch 10/12\n",
      "60000/60000 [==============================] - 28s 471us/sample - loss: 0.0379 - acc: 0.7236\n",
      "Epoch 11/12\n",
      "60000/60000 [==============================] - 25s 422us/sample - loss: 0.0350 - acc: 0.7462\n",
      "Epoch 12/12\n",
      "60000/60000 [==============================] - 27s 448us/sample - loss: 0.0331 - acc: 0.7615\n"
     ]
    },
    {
     "data": {
      "text/plain": [
       "<tensorflow.python.keras.callbacks.History at 0x1842c078a48>"
      ]
     },
     "execution_count": 16,
     "metadata": {},
     "output_type": "execute_result"
    }
   ],
   "source": [
    "model.fit(x_train, y_train, batch_size=100, epochs=12)"
   ]
  },
  {
   "cell_type": "markdown",
   "metadata": {},
   "source": [
    "從8個channel開始，準確率有點低"
   ]
  },
  {
   "cell_type": "markdown",
   "metadata": {},
   "source": [
    "### 一樣做4層convolution層，並從16個channels開始，filter為3x3，隱藏層為兩層"
   ]
  },
  {
   "cell_type": "code",
   "execution_count": 17,
   "metadata": {},
   "outputs": [],
   "source": [
    "model = Sequential()\n",
    "model.add(Conv2D(16, (3,3), padding='same',\n",
    "                input_shape=(28,28,1),\n",
    "                activation='relu'))\n",
    "model.add(MaxPooling2D(pool_size=(2,2)))\n",
    "model.add(Conv2D(32, (3,3), padding='same',\n",
    "                activation='relu'))\n",
    "model.add(MaxPooling2D(pool_size=(2,2)))\n",
    "model.add(Conv2D(64, (3,3), padding='same',\n",
    "                activation='relu'))\n",
    "model.add(MaxPooling2D(pool_size=(2,2)))\n",
    "model.add(Conv2D(128, (3,3), padding='same',\n",
    "                activation='relu'))\n",
    "model.add(MaxPooling2D(pool_size=(2,2)))\n",
    "model.add(Flatten())\n",
    "model.add(Dense(35, activation='relu'))\n",
    "model.add(Dense(78, activation='relu'))\n",
    "model.add(Dense(10, activation='softmax'))"
   ]
  },
  {
   "cell_type": "code",
   "execution_count": 18,
   "metadata": {},
   "outputs": [],
   "source": [
    "model.compile(loss='mse', optimizer=SGD(lr=0.87),metrics=['accuracy'])"
   ]
  },
  {
   "cell_type": "code",
   "execution_count": 19,
   "metadata": {},
   "outputs": [
    {
     "name": "stdout",
     "output_type": "stream",
     "text": [
      "Epoch 1/10\n",
      "60000/60000 [==============================] - 40s 661us/sample - loss: 0.0678 - acc: 0.4590\n",
      "Epoch 2/10\n",
      "60000/60000 [==============================] - 40s 658us/sample - loss: 0.0327 - acc: 0.7607\n",
      "Epoch 3/10\n",
      "60000/60000 [==============================] - 39s 658us/sample - loss: 0.0248 - acc: 0.8251\n",
      "Epoch 4/10\n",
      "60000/60000 [==============================] - 40s 668us/sample - loss: 0.0214 - acc: 0.8497\n",
      "Epoch 5/10\n",
      "60000/60000 [==============================] - 40s 666us/sample - loss: 0.0194 - acc: 0.8649 \n",
      "Epoch 6/10\n",
      "60000/60000 [==============================] - 40s 661us/sample - loss: 0.0179 - acc: 0.8761\n",
      "Epoch 7/10\n",
      "60000/60000 [==============================] - 40s 666us/sample - loss: 0.0169 - acc: 0.8831\n",
      "Epoch 8/10\n",
      "60000/60000 [==============================] - 40s 665us/sample - loss: 0.0161 - acc: 0.8890\n",
      "Epoch 9/10\n",
      "60000/60000 [==============================] - 40s 662us/sample - loss: 0.0154 - acc: 0.8942\n",
      "Epoch 10/10\n",
      "60000/60000 [==============================] - 41s 675us/sample - loss: 0.0148 - acc: 0.8989\n"
     ]
    },
    {
     "data": {
      "text/plain": [
       "<tensorflow.python.keras.callbacks.History at 0x1842c4fce88>"
      ]
     },
     "execution_count": 19,
     "metadata": {},
     "output_type": "execute_result"
    }
   ],
   "source": [
    "model.fit(x_train, y_train, batch_size=100, epochs=10)"
   ]
  },
  {
   "cell_type": "markdown",
   "metadata": {},
   "source": [
    "從16個channels開始，準確率就還不錯了"
   ]
  },
  {
   "cell_type": "markdown",
   "metadata": {},
   "source": [
    "### 這次試試看不一樣的loss function:mean squared logarithmic error"
   ]
  },
  {
   "cell_type": "code",
   "execution_count": 20,
   "metadata": {},
   "outputs": [],
   "source": [
    "model = Sequential()\n",
    "model.add(Conv2D(16, (3,3), padding='same',\n",
    "                input_shape=(28,28,1),\n",
    "                activation='relu'))\n",
    "model.add(MaxPooling2D(pool_size=(2,2)))\n",
    "model.add(Conv2D(32, (3,3), padding='same',\n",
    "                activation='relu'))\n",
    "model.add(MaxPooling2D(pool_size=(2,2)))\n",
    "model.add(Conv2D(64, (3,3), padding='same',\n",
    "                activation='relu'))\n",
    "model.add(MaxPooling2D(pool_size=(2,2)))\n",
    "model.add(Conv2D(128, (3,3), padding='same',\n",
    "                activation='relu'))\n",
    "model.add(MaxPooling2D(pool_size=(2,2)))\n",
    "model.add(Flatten())\n",
    "model.add(Dense(35, activation='relu'))\n",
    "model.add(Dense(78, activation='relu'))\n",
    "model.add(Dense(10, activation='softmax'))"
   ]
  },
  {
   "cell_type": "code",
   "execution_count": 25,
   "metadata": {},
   "outputs": [],
   "source": [
    "model.compile(loss='msle', optimizer=SGD(lr=0.87),metrics=['accuracy'])"
   ]
  },
  {
   "cell_type": "code",
   "execution_count": 26,
   "metadata": {},
   "outputs": [
    {
     "name": "stdout",
     "output_type": "stream",
     "text": [
      "WARNING:tensorflow:From C:\\Users\\user\\anaconda3\\lib\\site-packages\\tensorflow\\python\\ops\\math_grad.py:1250: add_dispatch_support.<locals>.wrapper (from tensorflow.python.ops.array_ops) is deprecated and will be removed in a future version.\n",
      "Instructions for updating:\n",
      "Use tf.where in 2.0, which has the same broadcast rule as np.where\n",
      "Epoch 1/10\n",
      "60000/60000 [==============================] - 40s 669us/sample - loss: 0.0379 - acc: 0.3209\n",
      "Epoch 2/10\n",
      "60000/60000 [==============================] - 41s 679us/sample - loss: 0.0195 - acc: 0.7059\n",
      "Epoch 3/10\n",
      "60000/60000 [==============================] - 41s 678us/sample - loss: 0.0153 - acc: 0.7775\n",
      "Epoch 4/10\n",
      "60000/60000 [==============================] - 41s 675us/sample - loss: 0.0129 - acc: 0.8137\n",
      "Epoch 5/10\n",
      "60000/60000 [==============================] - 40s 673us/sample - loss: 0.0115 - acc: 0.8347\n",
      "Epoch 6/10\n",
      "60000/60000 [==============================] - 40s 670us/sample - loss: 0.0104 - acc: 0.8509\n",
      "Epoch 7/10\n",
      "60000/60000 [==============================] - 40s 674us/sample - loss: 0.0097 - acc: 0.8620\n",
      "Epoch 8/10\n",
      "60000/60000 [==============================] - 41s 683us/sample - loss: 0.0092 - acc: 0.8693\n",
      "Epoch 9/10\n",
      "60000/60000 [==============================] - 41s 684us/sample - loss: 0.0088 - acc: 0.8752\n",
      "Epoch 10/10\n",
      "60000/60000 [==============================] - 41s 680us/sample - loss: 0.0084 - acc: 0.8819\n"
     ]
    },
    {
     "data": {
      "text/plain": [
       "<tensorflow.python.keras.callbacks.History at 0x1842ccafe88>"
      ]
     },
     "execution_count": 26,
     "metadata": {},
     "output_type": "execute_result"
    }
   ],
   "source": [
    "model.fit(x_train, y_train, batch_size=100, epochs=10)"
   ]
  },
  {
   "cell_type": "markdown",
   "metadata": {},
   "source": [
    "準確率比mse低一些些"
   ]
  },
  {
   "cell_type": "markdown",
   "metadata": {},
   "source": [
    "### 這次filiter改成1x1，loss funtion為mse，並訓練15次"
   ]
  },
  {
   "cell_type": "code",
   "execution_count": 27,
   "metadata": {},
   "outputs": [],
   "source": [
    "model = Sequential()\n",
    "model.add(Conv2D(16, (1,1), padding='same',\n",
    "                input_shape=(28,28,1),\n",
    "                activation='relu'))\n",
    "model.add(MaxPooling2D(pool_size=(2,2)))\n",
    "model.add(Conv2D(32, (1,1), padding='same',\n",
    "                activation='relu'))\n",
    "model.add(MaxPooling2D(pool_size=(2,2)))\n",
    "model.add(Conv2D(64, (1,1), padding='same',\n",
    "                activation='relu'))\n",
    "model.add(MaxPooling2D(pool_size=(2,2)))\n",
    "model.add(Conv2D(128, (1,1), padding='same',\n",
    "                activation='relu'))\n",
    "model.add(MaxPooling2D(pool_size=(2,2)))\n",
    "model.add(Flatten())\n",
    "model.add(Dense(35, activation='relu'))\n",
    "model.add(Dense(78, activation='relu'))\n",
    "model.add(Dense(10, activation='softmax'))"
   ]
  },
  {
   "cell_type": "code",
   "execution_count": 28,
   "metadata": {},
   "outputs": [],
   "source": [
    "model.compile(loss='mse', optimizer=SGD(lr=0.87),metrics=['accuracy'])"
   ]
  },
  {
   "cell_type": "code",
   "execution_count": 29,
   "metadata": {},
   "outputs": [
    {
     "name": "stdout",
     "output_type": "stream",
     "text": [
      "Epoch 1/15\n",
      "60000/60000 [==============================] - 18s 303us/sample - loss: 0.0893 - acc: 0.1723\n",
      "Epoch 2/15\n",
      "60000/60000 [==============================] - 19s 312us/sample - loss: 0.0810 - acc: 0.2617\n",
      "Epoch 3/15\n",
      "60000/60000 [==============================] - 18s 306us/sample - loss: 0.0740 - acc: 0.3509\n",
      "Epoch 4/15\n",
      "60000/60000 [==============================] - 18s 304us/sample - loss: 0.0722 - acc: 0.3794\n",
      "Epoch 5/15\n",
      "60000/60000 [==============================] - 18s 299us/sample - loss: 0.0699 - acc: 0.4224\n",
      "Epoch 6/15\n",
      "60000/60000 [==============================] - 18s 301us/sample - loss: 0.0678 - acc: 0.4513 - loss: 0.0678 - acc: 0\n",
      "Epoch 7/15\n",
      "60000/60000 [==============================] - 18s 303us/sample - loss: 0.0658 - acc: 0.4817 - loss: - ETA: 1s - loss\n",
      "Epoch 8/15\n",
      "60000/60000 [==============================] - 18s 302us/sample - loss: 0.0641 - acc: 0.5039\n",
      "Epoch 9/15\n",
      "60000/60000 [==============================] - 18s 305us/sample - loss: 0.0627 - acc: 0.5160\n",
      "Epoch 10/15\n",
      "60000/60000 [==============================] - 19s 319us/sample - loss: 0.0618 - acc: 0.5261 - l\n",
      "Epoch 11/15\n",
      "60000/60000 [==============================] - 19s 322us/sample - loss: 0.0609 - acc: 0.5332\n",
      "Epoch 12/15\n",
      "60000/60000 [==============================] - 18s 308us/sample - loss: 0.0602 - acc: 0.5408\n",
      "Epoch 13/15\n",
      "60000/60000 [==============================] - 18s 305us/sample - loss: 0.0597 - acc: 0.5460\n",
      "Epoch 14/15\n",
      "60000/60000 [==============================] - 18s 304us/sample - loss: 0.0591 - acc: 0.5536\n",
      "Epoch 15/15\n",
      "60000/60000 [==============================] - 19s 317us/sample - loss: 0.0586 - acc: 0.5550\n"
     ]
    },
    {
     "data": {
      "text/plain": [
       "<tensorflow.python.keras.callbacks.History at 0x1842c8e0d48>"
      ]
     },
     "execution_count": 29,
     "metadata": {},
     "output_type": "execute_result"
    }
   ],
   "source": [
    "model.fit(x_train, y_train, batch_size=100, epochs=15)"
   ]
  },
  {
   "cell_type": "markdown",
   "metadata": {},
   "source": [
    "準確率慘不忍睹.."
   ]
  },
  {
   "cell_type": "markdown",
   "metadata": {},
   "source": [
    "### 試試看filter是5x5的，一樣訓練15次"
   ]
  },
  {
   "cell_type": "code",
   "execution_count": 30,
   "metadata": {},
   "outputs": [],
   "source": [
    "model = Sequential()\n",
    "model.add(Conv2D(16, (5,5), padding='same',\n",
    "                input_shape=(28,28,1),\n",
    "                activation='relu'))\n",
    "model.add(MaxPooling2D(pool_size=(2,2)))\n",
    "model.add(Conv2D(32, (5,5), padding='same',\n",
    "                activation='relu'))\n",
    "model.add(MaxPooling2D(pool_size=(2,2)))\n",
    "model.add(Conv2D(64, (5,5), padding='same',\n",
    "                activation='relu'))\n",
    "model.add(MaxPooling2D(pool_size=(2,2)))\n",
    "model.add(Conv2D(128, (5,5), padding='same',\n",
    "                activation='relu'))\n",
    "model.add(MaxPooling2D(pool_size=(2,2)))\n",
    "model.add(Flatten())\n",
    "model.add(Dense(35, activation='relu'))\n",
    "model.add(Dense(78, activation='relu'))\n",
    "model.add(Dense(10, activation='softmax'))"
   ]
  },
  {
   "cell_type": "code",
   "execution_count": 31,
   "metadata": {},
   "outputs": [],
   "source": [
    "model.compile(loss='mse', optimizer=SGD(lr=0.87),metrics=['accuracy'])"
   ]
  },
  {
   "cell_type": "code",
   "execution_count": 32,
   "metadata": {},
   "outputs": [
    {
     "name": "stdout",
     "output_type": "stream",
     "text": [
      "Epoch 1/15\n",
      "60000/60000 [==============================] - 72s 1ms/sample - loss: 0.0580 - acc: 0.5404\n",
      "Epoch 2/15\n",
      "60000/60000 [==============================] - 71s 1ms/sample - loss: 0.0307 - acc: 0.7800\n",
      "Epoch 3/15\n",
      "60000/60000 [==============================] - 71s 1ms/sample - loss: 0.0242 - acc: 0.8284\n",
      "Epoch 4/15\n",
      "60000/60000 [==============================] - 72s 1ms/sample - loss: 0.0210 - acc: 0.8532\n",
      "Epoch 5/15\n",
      "60000/60000 [==============================] - 71s 1ms/sample - loss: 0.0191 - acc: 0.8668\n",
      "Epoch 6/15\n",
      "60000/60000 [==============================] - 71s 1ms/sample - loss: 0.0178 - acc: 0.8776\n",
      "Epoch 7/15\n",
      "60000/60000 [==============================] - 71s 1ms/sample - loss: 0.0168 - acc: 0.8856\n",
      "Epoch 8/15\n",
      "60000/60000 [==============================] - 70s 1ms/sample - loss: 0.0160 - acc: 0.8907\n",
      "Epoch 9/15\n",
      "60000/60000 [==============================] - 70s 1ms/sample - loss: 0.0153 - acc: 0.8950\n",
      "Epoch 10/15\n",
      "60000/60000 [==============================] - 72s 1ms/sample - loss: 0.0146 - acc: 0.9007\n",
      "Epoch 11/15\n",
      "60000/60000 [==============================] - 71s 1ms/sample - loss: 0.0140 - acc: 0.9050\n",
      "Epoch 12/15\n",
      "60000/60000 [==============================] - 70s 1ms/sample - loss: 0.0135 - acc: 0.9087\n",
      "Epoch 13/15\n",
      "60000/60000 [==============================] - 70s 1ms/sample - loss: 0.0130 - acc: 0.9122\n",
      "Epoch 14/15\n",
      "60000/60000 [==============================] - 71s 1ms/sample - loss: 0.0125 - acc: 0.9153\n",
      "Epoch 15/15\n",
      "60000/60000 [==============================] - 70s 1ms/sample - loss: 0.0120 - acc: 0.9192\n"
     ]
    },
    {
     "data": {
      "text/plain": [
       "<tensorflow.python.keras.callbacks.History at 0x1842d4b4608>"
      ]
     },
     "execution_count": 32,
     "metadata": {},
     "output_type": "execute_result"
    }
   ],
   "source": [
    "model.fit(x_train, y_train, batch_size=100, epochs=15)"
   ]
  },
  {
   "cell_type": "markdown",
   "metadata": {},
   "source": [
    "準確率高了很多，難道filter越大，準確率越高嗎?"
   ]
  },
  {
   "cell_type": "markdown",
   "metadata": {},
   "source": [
    "### 試試看7x7的filter"
   ]
  },
  {
   "cell_type": "code",
   "execution_count": 34,
   "metadata": {},
   "outputs": [],
   "source": [
    "model = Sequential()\n",
    "model.add(Conv2D(16, (7,7), padding='same',\n",
    "                input_shape=(28,28,1),\n",
    "                activation='relu'))\n",
    "model.add(MaxPooling2D(pool_size=(2,2)))\n",
    "model.add(Conv2D(32, (7,7), padding='same',\n",
    "                activation='relu'))\n",
    "model.add(MaxPooling2D(pool_size=(2,2)))\n",
    "model.add(Conv2D(64, (7,7), padding='same',\n",
    "                activation='relu'))\n",
    "model.add(MaxPooling2D(pool_size=(2,2)))\n",
    "model.add(Flatten())\n",
    "model.add(Dense(35, activation='relu'))\n",
    "model.add(Dense(78, activation='relu'))\n",
    "model.add(Dense(10, activation='softmax'))"
   ]
  },
  {
   "cell_type": "code",
   "execution_count": 35,
   "metadata": {},
   "outputs": [],
   "source": [
    "model.compile(loss='mse', optimizer=SGD(lr=0.87),metrics=['accuracy'])"
   ]
  },
  {
   "cell_type": "code",
   "execution_count": 36,
   "metadata": {},
   "outputs": [
    {
     "name": "stdout",
     "output_type": "stream",
     "text": [
      "Epoch 1/15\n",
      "60000/60000 [==============================] - 100s 2ms/sample - loss: 0.0472 - acc: 0.6281\n",
      "Epoch 2/15\n",
      "60000/60000 [==============================] - 96s 2ms/sample - loss: 0.0262 - acc: 0.8158\n",
      "Epoch 3/15\n",
      "60000/60000 [==============================] - 97s 2ms/sample - loss: 0.0214 - acc: 0.8495\n",
      "Epoch 4/15\n",
      "60000/60000 [==============================] - 95s 2ms/sample - loss: 0.0190 - acc: 0.8690\n",
      "Epoch 5/15\n",
      "60000/60000 [==============================] - 94s 2ms/sample - loss: 0.0174 - acc: 0.8791\n",
      "Epoch 6/15\n",
      "60000/60000 [==============================] - 93s 2ms/sample - loss: 0.0162 - acc: 0.8889\n",
      "Epoch 7/15\n",
      "60000/60000 [==============================] - 91s 2ms/sample - loss: 0.0153 - acc: 0.8957\n",
      "Epoch 8/15\n",
      "60000/60000 [==============================] - 92s 2ms/sample - loss: 0.0144 - acc: 0.9025\n",
      "Epoch 9/15\n",
      "60000/60000 [==============================] - 93s 2ms/sample - loss: 0.0137 - acc: 0.9070\n",
      "Epoch 10/15\n",
      "60000/60000 [==============================] - 98s 2ms/sample - loss: 0.0131 - acc: 0.9117\n",
      "Epoch 11/15\n",
      "60000/60000 [==============================] - 98s 2ms/sample - loss: 0.0125 - acc: 0.9156\n",
      "Epoch 12/15\n",
      "60000/60000 [==============================] - 95s 2ms/sample - loss: 0.0121 - acc: 0.9195\n",
      "Epoch 13/15\n",
      "60000/60000 [==============================] - 98s 2ms/sample - loss: 0.0116 - acc: 0.9233\n",
      "Epoch 14/15\n",
      "60000/60000 [==============================] - 93s 2ms/sample - loss: 0.0112 - acc: 0.9262\n",
      "Epoch 15/15\n",
      "60000/60000 [==============================] - 92s 2ms/sample - loss: 0.0107 - acc: 0.9294\n"
     ]
    },
    {
     "data": {
      "text/plain": [
       "<tensorflow.python.keras.callbacks.History at 0x1842d868748>"
      ]
     },
     "execution_count": 36,
     "metadata": {},
     "output_type": "execute_result"
    }
   ],
   "source": [
    "model.fit(x_train, y_train, batch_size=100, epochs=15)"
   ]
  },
  {
   "cell_type": "markdown",
   "metadata": {},
   "source": [
    "準確率有變好一點點，但訓練時間卻多了好幾倍"
   ]
  },
  {
   "cell_type": "markdown",
   "metadata": {},
   "source": [
    "## 預測結果"
   ]
  },
  {
   "cell_type": "code",
   "execution_count": 38,
   "metadata": {},
   "outputs": [
    {
     "name": "stdout",
     "output_type": "stream",
     "text": [
      "10000/10000 [==============================] - 5s 502us/sample - loss: 0.0151 - acc: 0.8982\n"
     ]
    }
   ],
   "source": [
    "score = model.evaluate(x_test, y_test)"
   ]
  },
  {
   "cell_type": "code",
   "execution_count": 39,
   "metadata": {},
   "outputs": [],
   "source": [
    "loss, acc = score"
   ]
  },
  {
   "cell_type": "code",
   "execution_count": 40,
   "metadata": {},
   "outputs": [
    {
     "name": "stdout",
     "output_type": "stream",
     "text": [
      "測試資料正確率 0.8982\n"
     ]
    }
   ],
   "source": [
    "print('測試資料正確率', acc)"
   ]
  },
  {
   "cell_type": "markdown",
   "metadata": {},
   "source": [
    "## 存model"
   ]
  },
  {
   "cell_type": "code",
   "execution_count": 37,
   "metadata": {},
   "outputs": [],
   "source": [
    "model.save('myCNN-FASHIONmodel.h5')"
   ]
  },
  {
   "cell_type": "code",
   "execution_count": null,
   "metadata": {},
   "outputs": [],
   "source": []
  }
 ],
 "metadata": {
  "kernelspec": {
   "display_name": "Python 3",
   "language": "python",
   "name": "python3"
  },
  "language_info": {
   "codemirror_mode": {
    "name": "ipython",
    "version": 3
   },
   "file_extension": ".py",
   "mimetype": "text/x-python",
   "name": "python",
   "nbconvert_exporter": "python",
   "pygments_lexer": "ipython3",
   "version": "3.7.6"
  }
 },
 "nbformat": 4,
 "nbformat_minor": 4
}
