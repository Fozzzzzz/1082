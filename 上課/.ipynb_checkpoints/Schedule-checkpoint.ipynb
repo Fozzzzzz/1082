{
 "cells": [
  {
   "cell_type": "code",
   "execution_count": 1,
   "metadata": {},
   "outputs": [],
   "source": [
    "Schedule = {}"
   ]
  },
  {
   "cell_type": "code",
   "execution_count": null,
   "metadata": {},
   "outputs": [],
   "source": [
    "def date_check(date):\n",
    "    year = date//10000\n",
    "    month = (date%10000)//100\n",
    "    day = date%100\n",
    "    if year ==0 or month == 0 or month > 12 or day == 0:\n",
    "        print(\"日期不存在\\n\")\n",
    "        return 'ERROR'\n",
    "    if (year%400) == 0:\n",
    "        if (month == 2) and (day > 29):\n",
    "            print(\"日期不存在\\n\")\n",
    "            return 'ERROR'\n",
    "    if (year%100) == 0:\n",
    "        if (month == 2) and (day > 28):\n",
    "            print(\"日期不存在\\n\")\n",
    "            return 'ERROR'\n",
    "    if (year%4) == 0:\n",
    "        if (month == 2) and (day > 29):\n",
    "            print(\"日期不存在\\n\")\n",
    "            return 'ERROR'\n",
    "    if year%4 != 0:\n",
    "        if (month == 2) and (day > 28):\n",
    "            print(\"日期不存在\\n\")\n",
    "            return 'ERROR'\n",
    "    if (month <= 7 and ((month%2) == 1)) or (month >= 8 and ((month%2) == 2)):\n",
    "        if day > 31:\n",
    "            print(\"日期不存在\\n\")\n",
    "            return 'ERROR'\n",
    "    else:\n",
    "        if day > 30:\n",
    "            print(\"日期不存在\\n\")\n",
    "            return 'ERROR'\n"
   ]
  },
  {
   "cell_type": "code",
   "execution_count": 3,
   "metadata": {},
   "outputs": [],
   "source": [
    "def insert():\n",
    "    date = int(input(\"請輸入日期(範例格式:20190621)：\"))\n",
    "    if date_check(date) == 'ERROR':\n",
    "        return 0\n",
    "    thing = input(\"請輸入代辦事情：\")\n",
    "    while date in Schedule:\n",
    "        date += 100000000\n",
    "    Schedule[date] = thing\n",
    "    print(\"\")"
   ]
  },
  {
   "cell_type": "code",
   "execution_count": 4,
   "metadata": {},
   "outputs": [],
   "source": [
    "def search():\n",
    "    begin_date = int(input(\"請查詢起始日期(範例格式:20190621)：\"))\n",
    "    if date_check(begin_date) == 'ERROR':\n",
    "        return 0\n",
    "    end_date = int(input(\"請查詢結束日期(範例格式:20190621)：\"))\n",
    "    if date_check(end_date) == 'ERROR':\n",
    "        return 0\n",
    "    wait_to_do = 0\n",
    "    if end_date < begin_date:\n",
    "        print(\"ERROR\")\n",
    "    for date in Schedule:\n",
    "        if (date%100000000) >= begin_date and (date%100000000) <= end_date:\n",
    "            print(\"%4d年%2d月%2d日要%s\" % ((date%100000000)//10000,\n",
    "                                       (date%10000)//100, date%100,\n",
    "                                       Schedule[date]))\n",
    "            wait_to_do += 1\n",
    "    if wait_to_do == 0:\n",
    "        print(\"在這期間沒有任何事\")\n",
    "    print(\"\")"
   ]
  },
  {
   "cell_type": "code",
   "execution_count": null,
   "metadata": {},
   "outputs": [],
   "source": [
    "def do_what(n):\n",
    "    if n == '1':\n",
    "        return insert()\n",
    "    elif n == '2':\n",
    "        return search()\n",
    "    elif n == '3':\n",
    "        return 'left'\n",
    "    else:\n",
    "        print(\"ERROR\\n請重新輸入\\n\")"
   ]
  },
  {
   "cell_type": "code",
   "execution_count": null,
   "metadata": {},
   "outputs": [],
   "source": [
    "while True:\n",
    "    ask = (input(\"請問您要做什麼?\\n如要輸入代辦事情，請按1\\n如要查詢代辦事情，請按2\\n如要離開，請按3\\n\"))\n",
    "    back = do_what(ask)\n",
    "    if back == 'left':\n",
    "        break"
   ]
  },
  {
   "cell_type": "code",
   "execution_count": null,
   "metadata": {},
   "outputs": [],
   "source": []
  }
 ],
 "metadata": {
  "kernelspec": {
   "display_name": "Python 3",
   "language": "python",
   "name": "python3"
  },
  "language_info": {
   "codemirror_mode": {
    "name": "ipython",
    "version": 3
   },
   "file_extension": ".py",
   "mimetype": "text/x-python",
   "name": "python",
   "nbconvert_exporter": "python",
   "pygments_lexer": "ipython3",
   "version": "3.7.3"
  }
 },
 "nbformat": 4,
 "nbformat_minor": 2
}
