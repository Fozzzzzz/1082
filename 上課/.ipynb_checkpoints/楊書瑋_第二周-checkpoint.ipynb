{
 "cells": [
  {
   "cell_type": "markdown",
   "metadata": {},
   "source": [
    "猜數字"
   ]
  },
  {
   "cell_type": "code",
   "execution_count": 2,
   "metadata": {},
   "outputs": [
    {
     "name": "stdout",
     "output_type": "stream",
     "text": [
      "Populating the interactive namespace from numpy and matplotlib\n"
     ]
    }
   ],
   "source": [
    "%pylab inline"
   ]
  },
  {
   "cell_type": "code",
   "execution_count": 3,
   "metadata": {},
   "outputs": [
    {
     "name": "stdout",
     "output_type": "stream",
     "text": [
      "Guess a number: 67\n",
      "It should be smaller.\n",
      "Guess another number: 45\n",
      "It should be smaller.\n",
      "Guess another number: 32\n",
      "It should be larger.\n",
      "Guess another number: 40\n",
      "It should be larger.\n",
      "Guess another number: 43\n",
      "Congratulation!!!\n"
     ]
    }
   ],
   "source": [
    "num = randint(1,100)\n",
    "guess = int(input(\"Guess a number: \"))\n",
    "while guess != num:\n",
    "    if guess > num:\n",
    "        print(\"It should be smaller.\")\n",
    "    elif guess < num:\n",
    "        print(\"It should be larger.\")\n",
    "    guess = int(input(\"Guess another number: \"))\n",
    "print(\"Congratulation!!!\")"
   ]
  },
  {
   "cell_type": "markdown",
   "metadata": {},
   "source": [
    "感恩讚嘆機器人"
   ]
  },
  {
   "cell_type": "code",
   "execution_count": 5,
   "metadata": {},
   "outputs": [
    {
     "name": "stdout",
     "output_type": "stream",
     "text": [
      ">>嗨\n",
      "「感恩海產，讚嘆海產。」\n",
      ">>嗨\n",
      "「感恩海產，讚嘆海產。」\n",
      ">>掰掰\n"
     ]
    }
   ],
   "source": [
    "sen = input(\">>\")\n",
    "while sen != '掰掰':\n",
    "    print(\"「感恩海產，讚嘆海產。」\")\n",
    "    sen = input(\">>\")"
   ]
  },
  {
   "cell_type": "markdown",
   "metadata": {},
   "source": [
    "讓字串倒過來排"
   ]
  },
  {
   "cell_type": "code",
   "execution_count": 6,
   "metadata": {},
   "outputs": [
    {
     "name": "stdout",
     "output_type": "stream",
     "text": [
      "Input a string. I can reverse it. >>you are my apple\n",
      "elppa ym era uoy\n"
     ]
    }
   ],
   "source": [
    "def reverse(a_string):\n",
    "    a = -1\n",
    "    new_string = ''\n",
    "    for i in a_string:\n",
    "        new_string = new_string + a_string[a]\n",
    "        a = a - 1\n",
    "    print(new_string)\n",
    "string = input(\"Input a string. I can reverse it. >>\")\n",
    "reverse(string)"
   ]
  },
  {
   "cell_type": "code",
   "execution_count": 7,
   "metadata": {},
   "outputs": [
    {
     "name": "stdout",
     "output_type": "stream",
     "text": [
      "2014年是甲午年\n",
      "2015年是乙未年\n",
      "2016年是丙申年\n",
      "2017年是丁酉年\n",
      "2018年是戊戌年\n",
      "2019年是己亥年\n",
      "2020年是庚子年\n",
      "2021年是辛丑年\n",
      "2022年是壬寅年\n",
      "2023年是癸卯年\n",
      "2024年是甲辰年\n",
      "2025年是乙巳年\n",
      "2026年是丙午年\n",
      "2027年是丁未年\n",
      "2028年是戊申年\n",
      "2029年是己酉年\n",
      "2030年是庚戌年\n",
      "2031年是辛亥年\n",
      "2032年是壬子年\n",
      "2033年是癸丑年\n",
      "2034年是甲寅年\n",
      "2035年是乙卯年\n",
      "2036年是丙辰年\n",
      "2037年是丁巳年\n",
      "2038年是戊午年\n",
      "2039年是己未年\n",
      "2040年是庚申年\n",
      "2041年是辛酉年\n",
      "2042年是壬戌年\n",
      "2043年是癸亥年\n",
      "2044年是甲子年\n",
      "2045年是乙丑年\n",
      "2046年是丙寅年\n",
      "2047年是丁卯年\n",
      "2048年是戊辰年\n",
      "2049年是己巳年\n",
      "2050年是庚午年\n",
      "2051年是辛未年\n",
      "2052年是壬申年\n",
      "2053年是癸酉年\n",
      "2054年是甲戌年\n",
      "2055年是乙亥年\n",
      "2056年是丙子年\n",
      "2057年是丁丑年\n",
      "2058年是戊寅年\n",
      "2059年是己卯年\n",
      "2060年是庚辰年\n",
      "2061年是辛巳年\n",
      "2062年是壬午年\n",
      "2063年是癸未年\n",
      "2064年是甲申年\n",
      "2065年是乙酉年\n",
      "2066年是丙戌年\n",
      "2067年是丁亥年\n",
      "2068年是戊子年\n",
      "2069年是己丑年\n",
      "2070年是庚寅年\n",
      "2071年是辛卯年\n",
      "2072年是壬辰年\n",
      "2073年是癸巳年\n"
     ]
    }
   ],
   "source": [
    "year = 2014\n",
    "天干 = '甲乙丙丁戊己庚辛壬癸'\n",
    "地支 = '子丑寅卯辰巳午未申酉戌亥'\n",
    "for i in range(2014, 2074):\n",
    "    new_天干 = 天干[year%10-4]\n",
    "    new_地支 = 地支[year%12-4]\n",
    "    print(\"%d年是%s%s年\" % (year, new_天干, new_地支))\n",
    "    year = year + 1"
   ]
  },
  {
   "cell_type": "markdown",
   "metadata": {},
   "source": [
    "我有一棵樹"
   ]
  },
  {
   "cell_type": "code",
   "execution_count": 9,
   "metadata": {
    "scrolled": true
   },
   "outputs": [
    {
     "name": "stdout",
     "output_type": "stream",
     "text": [
      "Please enter a numer. I'll give you a tree. >> 7\n",
      "       *       \n",
      "      ***      \n",
      "     *****     \n",
      "    *******    \n",
      "   *********   \n",
      "  ***********  \n",
      " ************* \n"
     ]
    }
   ],
   "source": [
    "def tree(num):\n",
    "    star = '*'\n",
    "    for i in range(num):\n",
    "        space = ' '\n",
    "        space = space * (num-i)\n",
    "        print(space + star + space)\n",
    "        star = star + '**'\n",
    "a = int(input(\"Please enter a numer. I'll give you a tree. >> \"))\n",
    "tree(a)"
   ]
  },
  {
   "cell_type": "code",
   "execution_count": null,
   "metadata": {},
   "outputs": [],
   "source": []
  }
 ],
 "metadata": {
  "kernelspec": {
   "display_name": "Python 3",
   "language": "python",
   "name": "python3"
  },
  "language_info": {
   "codemirror_mode": {
    "name": "ipython",
    "version": 3
   },
   "file_extension": ".py",
   "mimetype": "text/x-python",
   "name": "python",
   "nbconvert_exporter": "python",
   "pygments_lexer": "ipython3",
   "version": "3.7.3"
  }
 },
 "nbformat": 4,
 "nbformat_minor": 2
}
