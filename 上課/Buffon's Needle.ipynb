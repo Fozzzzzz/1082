{
 "cells": [
  {
   "cell_type": "code",
   "execution_count": 251,
   "metadata": {},
   "outputs": [],
   "source": [
    "%matplotlib inline\n",
    "import numpy as np\n",
    "import matplotlib.pyplot as plt\n",
    "import pandas as pd\n",
    "from ipywidgets import interact"
   ]
  },
  {
   "cell_type": "code",
   "execution_count": 253,
   "metadata": {},
   "outputs": [],
   "source": [
    "def choose_angle():\n",
    "    infirement = np.linspace(0, 2*np.pi, 10000000)\n",
    "    choose = np.random.randint(0,10000000)\n",
    "    angle = infirement[choose]\n",
    "    return angle"
   ]
  },
  {
   "cell_type": "code",
   "execution_count": 254,
   "metadata": {},
   "outputs": [],
   "source": [
    "def draw_line():\n",
    "    ini_x = 10*(np.random.random(1))\n",
    "    ini_y = 10*(np.random.random(1))\n",
    "    angle = choose_angle()\n",
    "    end_x = ini_x + np.cos(angle)\n",
    "    end_y = ini_y + np.sin(angle)\n",
    "    return plt.plot([ini_x, end_x], [ini_y, end_y],c='b')"
   ]
  },
  {
   "cell_type": "code",
   "execution_count": 255,
   "metadata": {},
   "outputs": [],
   "source": [
    "def parll(n):\n",
    "    i = -1\n",
    "    while i <= n:\n",
    "        plt.plot([-1,n],[i,i],c = 'r')\n",
    "        i = i+2"
   ]
  },
  {
   "cell_type": "code",
   "execution_count": 258,
   "metadata": {},
   "outputs": [],
   "source": [
    "def num_of_line(n):\n",
    "    n = int(n)\n",
    "    for i in range(1, n+1):\n",
    "        draw_line()\n",
    "    parll(11)"
   ]
  },
  {
   "cell_type": "code",
   "execution_count": 260,
   "metadata": {},
   "outputs": [
    {
     "data": {
      "application/vnd.jupyter.widget-view+json": {
       "model_id": "4702578360e343b5aaaf129d10587966",
       "version_major": 2,
       "version_minor": 0
      },
      "text/plain": [
       "interactive(children=(Text(value='How many needles do you want to throw?', description='n'), Output()), _dom_c…"
      ]
     },
     "metadata": {},
     "output_type": "display_data"
    },
    {
     "data": {
      "text/plain": [
       "<function __main__.num_of_line(n)>"
      ]
     },
     "execution_count": 260,
     "metadata": {},
     "output_type": "execute_result"
    }
   ],
   "source": [
    "interact(num_of_line, n=\"How many needles do you want to throw?\")"
   ]
  }
 ],
 "metadata": {
  "kernelspec": {
   "display_name": "Python 3",
   "language": "python",
   "name": "python3"
  },
  "language_info": {
   "codemirror_mode": {
    "name": "ipython",
    "version": 3
   },
   "file_extension": ".py",
   "mimetype": "text/x-python",
   "name": "python",
   "nbconvert_exporter": "python",
   "pygments_lexer": "ipython3",
   "version": "3.7.3"
  }
 },
 "nbformat": 4,
 "nbformat_minor": 2
}
